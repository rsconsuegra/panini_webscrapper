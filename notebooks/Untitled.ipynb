{
 "cells": [
  {
   "cell_type": "code",
   "execution_count": 29,
   "id": "76863bee",
   "metadata": {
    "ExecuteTime": {
     "end_time": "2022-09-15T04:01:18.842602Z",
     "start_time": "2022-09-15T04:01:18.760585Z"
    }
   },
   "outputs": [],
   "source": [
    "import requests\n",
    "from bs4 import BeautifulSoup"
   ]
  },
  {
   "cell_type": "code",
   "execution_count": 30,
   "id": "9d9859c2",
   "metadata": {},
   "outputs": [],
   "source": [
    "\n",
    "URL = \"https://tiendapanini.com.mx/coleccionables/item-3/\"\n",
    "page = requests.get(URL)\n",
    "\n",
    "store = BeautifulSoup(page.content, \"html.parser\")"
   ]
  },
  {
   "cell_type": "code",
   "execution_count": 31,
   "id": "3676b6a0",
   "metadata": {},
   "outputs": [],
   "source": [
    "mangas = {}"
   ]
  },
  {
   "cell_type": "code",
   "execution_count": 32,
   "id": "937a8aa0",
   "metadata": {},
   "outputs": [],
   "source": [
    "def get_products_in_grid(store_page, mangas):\n",
    "    products = store.find_all(class_=\"product-item-link\", href=True)\n",
    "    for product in products:\n",
    "        mangas[product.text] = product[\"href\"]\n",
    "    return mangas"
   ]
  },
  {
   "cell_type": "code",
   "execution_count": 33,
   "id": "26ef641e",
   "metadata": {},
   "outputs": [],
   "source": [
    "def next_page(store,i):\n",
    "    next_page = f\"https://tiendapanini.com.mx/coleccionables/item-3?p={i}\"\n",
    "    page = requests.get(next_page)\n",
    "    store = BeautifulSoup(page.content, \"html.parser\")\n",
    "    spans = store.find_all(class_=\"toolbar-number\")\n",
    "    first_in_pag = spans[0].text\n",
    "    if first_in_pag == \"1\":\n",
    "        return None\n",
    "    return store"
   ]
  },
  {
   "cell_type": "code",
   "execution_count": 34,
   "id": "ddfb9ad8",
   "metadata": {},
   "outputs": [
    {
     "name": "stdout",
     "output_type": "stream",
     "text": [
      "Pag number #0\n",
      "Pag number #10\n",
      "Pag number #20\n",
      "Pag number #30\n",
      "Pag number #40\n",
      "Pag number #50\n",
      "Pag number #60\n",
      "Pag number #70\n",
      "Pag number #80\n",
      "Pag number #90\n",
      "Pag number #100\n",
      "Pag number #110\n",
      "Pag number #120\n",
      "Pag number #130\n",
      "Pag number #140\n",
      "Pag number #150\n",
      "Pag number #160\n",
      "Pag number #170\n",
      "Pag number #180\n",
      "Pag number #190\n",
      "Pag number #200\n",
      "Pag number #210\n",
      "Pag number #220\n",
      "Pag number #230\n",
      "Pag number #240\n",
      "Pag number #250\n",
      "Pag number #260\n",
      "Pag number #270\n",
      "Pag number #280\n"
     ]
    }
   ],
   "source": [
    "for i in range(300):\n",
    "    if i%10==0:\n",
    "        print(f\"Pag number #{i}\")\n",
    "    mangas = get_products_in_grid(store, mangas)\n",
    "    store = next_page(store, i + 2)\n",
    "    if store is None:\n",
    "        break"
   ]
  },
  {
   "cell_type": "code",
   "execution_count": 36,
   "id": "021f9245",
   "metadata": {},
   "outputs": [
    {
     "data": {
      "text/plain": [
       "3425"
      ]
     },
     "execution_count": 36,
     "metadata": {},
     "output_type": "execute_result"
    }
   ],
   "source": [
    "len(mangas)"
   ]
  },
  {
   "cell_type": "code",
   "execution_count": 43,
   "id": "58905da1",
   "metadata": {},
   "outputs": [
    {
     "data": {
      "text/plain": [
       "'https://tiendapanini.com.mx/nana-n5'"
      ]
     },
     "execution_count": 43,
     "metadata": {},
     "output_type": "execute_result"
    }
   ],
   "source": [
    "mangas[\"NANA N.5\"]"
   ]
  }
 ],
 "metadata": {
  "kernelspec": {
   "display_name": "Python 3.10.6 ('panini')",
   "language": "python",
   "name": "python3"
  },
  "language_info": {
   "codemirror_mode": {
    "name": "ipython",
    "version": 3
   },
   "file_extension": ".py",
   "mimetype": "text/x-python",
   "name": "python",
   "nbconvert_exporter": "python",
   "pygments_lexer": "ipython3",
   "version": "3.10.6"
  },
  "toc": {
   "base_numbering": 1,
   "nav_menu": {},
   "number_sections": true,
   "sideBar": true,
   "skip_h1_title": false,
   "title_cell": "Table of Contents",
   "title_sidebar": "Contents",
   "toc_cell": false,
   "toc_position": {},
   "toc_section_display": true,
   "toc_window_display": false
  },
  "varInspector": {
   "cols": {
    "lenName": 16,
    "lenType": 16,
    "lenVar": 40
   },
   "kernels_config": {
    "python": {
     "delete_cmd_postfix": "",
     "delete_cmd_prefix": "del ",
     "library": "var_list.py",
     "varRefreshCmd": "print(var_dic_list())"
    },
    "r": {
     "delete_cmd_postfix": ") ",
     "delete_cmd_prefix": "rm(",
     "library": "var_list.r",
     "varRefreshCmd": "cat(var_dic_list()) "
    }
   },
   "types_to_exclude": [
    "module",
    "function",
    "builtin_function_or_method",
    "instance",
    "_Feature"
   ],
   "window_display": false
  },
  "vscode": {
   "interpreter": {
    "hash": "0969ba63fe0ca53a960743d327041f72e041976d2dc0249105f2935edfb4c2ef"
   }
  }
 },
 "nbformat": 4,
 "nbformat_minor": 5
}
